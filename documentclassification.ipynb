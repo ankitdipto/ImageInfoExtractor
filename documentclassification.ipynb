{
 "cells": [
  {
   "cell_type": "code",
   "execution_count": 1,
   "metadata": {
    "execution": {
     "iopub.execute_input": "2020-10-31T07:39:25.673517Z",
     "iopub.status.busy": "2020-10-31T07:39:25.672638Z",
     "iopub.status.idle": "2020-10-31T07:39:33.567674Z",
     "shell.execute_reply": "2020-10-31T07:39:33.566814Z"
    },
    "papermill": {
     "duration": 7.946011,
     "end_time": "2020-10-31T07:39:33.567812",
     "exception": false,
     "start_time": "2020-10-31T07:39:25.621801",
     "status": "completed"
    },
    "tags": []
   },
   "outputs": [],
   "source": [
    "import tensorflow as tf\n",
    "import pandas as pd\n",
    "import numpy as np\n",
    "import re\n",
    "from sklearn.model_selection import train_test_split,cross_val_score,KFold\n",
    "from sklearn.linear_model import LogisticRegression\n",
    "from sklearn.preprocessing import MinMaxScaler\n",
    "from tensorflow.keras import Sequential,layers\n",
    "from sklearn.metrics import accuracy_score\n",
    "from tensorflow.keras.preprocessing.text import Tokenizer,text_to_word_sequence\n",
    "from tensorflow.keras.preprocessing.sequence import pad_sequences\n",
    "import nltk\n",
    "from nltk.corpus import brown,stopwords\n",
    "from nltk.stem import WordNetLemmatizer\n",
    "from gensim.models import Word2Vec,KeyedVectors\n",
    "from gensim.test.utils import get_tmpfile\n",
    "import multiprocessing\n",
    "from time import time\n",
    "import matplotlib.pyplot as plt\n",
    "from sklearn.decomposition import PCA"
   ]
  },
  {
   "cell_type": "code",
   "execution_count": 2,
   "metadata": {
    "execution": {
     "iopub.execute_input": "2020-10-31T07:39:33.657801Z",
     "iopub.status.busy": "2020-10-31T07:39:33.656972Z",
     "iopub.status.idle": "2020-10-31T07:39:33.660292Z",
     "shell.execute_reply": "2020-10-31T07:39:33.660894Z"
    },
    "papermill": {
     "duration": 0.055185,
     "end_time": "2020-10-31T07:39:33.661064",
     "exception": false,
     "start_time": "2020-10-31T07:39:33.605879",
     "status": "completed"
    },
    "tags": []
   },
   "outputs": [
    {
     "name": "stdout",
     "output_type": "stream",
     "text": [
      "Number of cores in the server : 4\n"
     ]
    }
   ],
   "source": [
    "#nltk.download()\n",
    "cores=multiprocessing.cpu_count()\n",
    "print(\"Number of cores in the server :\",cores)"
   ]
  },
  {
   "cell_type": "code",
   "execution_count": 3,
   "metadata": {
    "execution": {
     "iopub.execute_input": "2020-10-31T07:39:33.745135Z",
     "iopub.status.busy": "2020-10-31T07:39:33.744235Z",
     "iopub.status.idle": "2020-10-31T07:39:33.747614Z",
     "shell.execute_reply": "2020-10-31T07:39:33.746788Z"
    },
    "papermill": {
     "duration": 0.046885,
     "end_time": "2020-10-31T07:39:33.747763",
     "exception": false,
     "start_time": "2020-10-31T07:39:33.700878",
     "status": "completed"
    },
    "tags": []
   },
   "outputs": [],
   "source": [
    "filePath='../input/subjects/Subject_Wise_Data.json'\n",
    "#filePath2='../input/musicdata/Digital_Music_5.json'\n",
    "#filePathLocal='datasets/Digital_Music_5.json'\n",
    "filePathGlove='../input/glove-global-vectors-for-word-representation/glove.6B.100d.txt'"
   ]
  },
  {
   "cell_type": "code",
   "execution_count": 4,
   "metadata": {
    "execution": {
     "iopub.execute_input": "2020-10-31T07:39:33.830554Z",
     "iopub.status.busy": "2020-10-31T07:39:33.829509Z",
     "iopub.status.idle": "2020-10-31T07:39:34.318027Z",
     "shell.execute_reply": "2020-10-31T07:39:34.317388Z"
    },
    "papermill": {
     "duration": 0.532,
     "end_time": "2020-10-31T07:39:34.318162",
     "exception": false,
     "start_time": "2020-10-31T07:39:33.786162",
     "status": "completed"
    },
    "tags": []
   },
   "outputs": [],
   "source": [
    "df=pd.read_json(filePath,lines=False)"
   ]
  },
  {
   "cell_type": "code",
   "execution_count": 5,
   "metadata": {
    "execution": {
     "iopub.execute_input": "2020-10-31T07:39:34.408523Z",
     "iopub.status.busy": "2020-10-31T07:39:34.407479Z",
     "iopub.status.idle": "2020-10-31T07:39:34.416784Z",
     "shell.execute_reply": "2020-10-31T07:39:34.416051Z"
    },
    "papermill": {
     "duration": 0.0602,
     "end_time": "2020-10-31T07:39:34.416915",
     "exception": false,
     "start_time": "2020-10-31T07:39:34.356715",
     "status": "completed"
    },
    "scrolled": true,
    "tags": []
   },
   "outputs": [
    {
     "data": {
      "text/html": [
       "<div>\n",
       "<style scoped>\n",
       "    .dataframe tbody tr th:only-of-type {\n",
       "        vertical-align: middle;\n",
       "    }\n",
       "\n",
       "    .dataframe tbody tr th {\n",
       "        vertical-align: top;\n",
       "    }\n",
       "\n",
       "    .dataframe thead th {\n",
       "        text-align: right;\n",
       "    }\n",
       "</style>\n",
       "<table border=\"1\" class=\"dataframe\">\n",
       "  <thead>\n",
       "    <tr style=\"text-align: right;\">\n",
       "      <th></th>\n",
       "      <th>ExtractedText</th>\n",
       "      <th>Topic</th>\n",
       "    </tr>\n",
       "  </thead>\n",
       "  <tbody>\n",
       "    <tr>\n",
       "      <th>0</th>\n",
       "      <td>Section 7.7\\n\\n‘SYNCHRONIC\\n\\n‘CAUSALRULES\\n\\n...</td>\n",
       "      <td>1</td>\n",
       "    </tr>\n",
       "    <tr>\n",
       "      <th>1</th>\n",
       "      <td>24\\n\\n(CHAPTER ONE Digital Logic Circuits\\n\\n ...</td>\n",
       "      <td>1</td>\n",
       "    </tr>\n",
       "    <tr>\n",
       "      <th>2</th>\n",
       "      <td>control address\\nregister\\n\\nsequencer\\n\\npipe...</td>\n",
       "      <td>1</td>\n",
       "    </tr>\n",
       "    <tr>\n",
       "      <th>3</th>\n",
       "      <td>start bit\\n\\nstop bit\\n\\nSECTION 11-3 Asynchro...</td>\n",
       "      <td>1</td>\n",
       "    </tr>\n",
       "    <tr>\n",
       "      <th>4</th>\n",
       "      <td>9.4 Paging 293\\n\\nhowever, allow the page tabl...</td>\n",
       "      <td>1</td>\n",
       "    </tr>\n",
       "  </tbody>\n",
       "</table>\n",
       "</div>"
      ],
      "text/plain": [
       "                                       ExtractedText  Topic\n",
       "0  Section 7.7\\n\\n‘SYNCHRONIC\\n\\n‘CAUSALRULES\\n\\n...      1\n",
       "1  24\\n\\n(CHAPTER ONE Digital Logic Circuits\\n\\n ...      1\n",
       "2  control address\\nregister\\n\\nsequencer\\n\\npipe...      1\n",
       "3  start bit\\n\\nstop bit\\n\\nSECTION 11-3 Asynchro...      1\n",
       "4  9.4 Paging 293\\n\\nhowever, allow the page tabl...      1"
      ]
     },
     "execution_count": 5,
     "metadata": {},
     "output_type": "execute_result"
    }
   ],
   "source": [
    "df.head()"
   ]
  },
  {
   "cell_type": "code",
   "execution_count": 6,
   "metadata": {
    "execution": {
     "iopub.execute_input": "2020-10-31T07:39:34.506228Z",
     "iopub.status.busy": "2020-10-31T07:39:34.504444Z",
     "iopub.status.idle": "2020-10-31T07:39:34.519200Z",
     "shell.execute_reply": "2020-10-31T07:39:34.518438Z"
    },
    "papermill": {
     "duration": 0.062826,
     "end_time": "2020-10-31T07:39:34.519357",
     "exception": false,
     "start_time": "2020-10-31T07:39:34.456531",
     "status": "completed"
    },
    "tags": []
   },
   "outputs": [],
   "source": [
    "#Preprocessing the whole text\n",
    "english_stop_words=set(stopwords.words('english'))\n",
    "lemma=WordNetLemmatizer()\n",
    "def preprocess_data(paragraph):\n",
    "    paragraph=re.sub('[^a-zA-Z,]',' ',paragraph)                               #Removing numbers and punctuations\n",
    "    paragraph=paragraph.strip()                                                #remove newline characters\n",
    "    paragraph=str(paragraph).lower()                                           #Converting all characters into lowercase\n",
    "    paragraph=text_to_word_sequence(paragraph)                                 #Tokenization\n",
    "    paragraph=[word for word in paragraph if word not in english_stop_words]   #Stopwords removal (Stopwords are the frequently occurring words like 'the','and','or','that','this',etc which carry no contextual information.)\n",
    "    paragraph=[lemma.lemmatize(word=word,pos='v') for word in paragraph]       #Lemmatization -> Keeping the root of the words\n",
    "    paragraph=[word for word in paragraph if len(word) > 2]                    #removing all words with length<=2 like 'a','an','or','by','me',etc.\n",
    "    paragraph=' '.join(paragraph)                                              #Converting the current list to string\n",
    "    return paragraph"
   ]
  },
  {
   "cell_type": "code",
   "execution_count": 7,
   "metadata": {
    "execution": {
     "iopub.execute_input": "2020-10-31T07:39:34.606869Z",
     "iopub.status.busy": "2020-10-31T07:39:34.605850Z",
     "iopub.status.idle": "2020-10-31T07:39:54.440440Z",
     "shell.execute_reply": "2020-10-31T07:39:54.439403Z"
    },
    "papermill": {
     "duration": 19.881612,
     "end_time": "2020-10-31T07:39:54.440616",
     "exception": false,
     "start_time": "2020-10-31T07:39:34.559004",
     "status": "completed"
    },
    "tags": []
   },
   "outputs": [
    {
     "name": "stdout",
     "output_type": "stream",
     "text": [
      "Preprcessing took 19.83096694946289 secs\n"
     ]
    }
   ],
   "source": [
    "t1=time()\n",
    "PreprocessedText=df['ExtractedText'].apply(preprocess_data)\n",
    "t2=time()\n",
    "print(\"Preprcessing took {0} secs\".format(t2-t1))"
   ]
  },
  {
   "cell_type": "code",
   "execution_count": 8,
   "metadata": {
    "execution": {
     "iopub.execute_input": "2020-10-31T07:39:54.530955Z",
     "iopub.status.busy": "2020-10-31T07:39:54.530074Z",
     "iopub.status.idle": "2020-10-31T07:39:54.537651Z",
     "shell.execute_reply": "2020-10-31T07:39:54.536813Z"
    },
    "papermill": {
     "duration": 0.056176,
     "end_time": "2020-10-31T07:39:54.537802",
     "exception": false,
     "start_time": "2020-10-31T07:39:54.481626",
     "status": "completed"
    },
    "tags": []
   },
   "outputs": [],
   "source": [
    "df.insert(1,'PreprocessedText',PreprocessedText)\n",
    "df=df.sample(frac=1,random_state=6).reset_index(drop=True)  #Shuffling the records"
   ]
  },
  {
   "cell_type": "code",
   "execution_count": 9,
   "metadata": {
    "execution": {
     "iopub.execute_input": "2020-10-31T07:39:54.630583Z",
     "iopub.status.busy": "2020-10-31T07:39:54.629405Z",
     "iopub.status.idle": "2020-10-31T07:39:54.635007Z",
     "shell.execute_reply": "2020-10-31T07:39:54.634305Z"
    },
    "papermill": {
     "duration": 0.057142,
     "end_time": "2020-10-31T07:39:54.635153",
     "exception": false,
     "start_time": "2020-10-31T07:39:54.578011",
     "status": "completed"
    },
    "tags": []
   },
   "outputs": [
    {
     "data": {
      "text/html": [
       "<div>\n",
       "<style scoped>\n",
       "    .dataframe tbody tr th:only-of-type {\n",
       "        vertical-align: middle;\n",
       "    }\n",
       "\n",
       "    .dataframe tbody tr th {\n",
       "        vertical-align: top;\n",
       "    }\n",
       "\n",
       "    .dataframe thead th {\n",
       "        text-align: right;\n",
       "    }\n",
       "</style>\n",
       "<table border=\"1\" class=\"dataframe\">\n",
       "  <thead>\n",
       "    <tr style=\"text-align: right;\">\n",
       "      <th></th>\n",
       "      <th>ExtractedText</th>\n",
       "      <th>PreprocessedText</th>\n",
       "      <th>Topic</th>\n",
       "    </tr>\n",
       "  </thead>\n",
       "  <tbody>\n",
       "    <tr>\n",
       "      <th>0</th>\n",
       "      <td>we ‘COORDINATION COMPOUNDS:\\nINATION COMPOUNDS...</td>\n",
       "      <td>coordination compound ination compound nhy ato...</td>\n",
       "      <td>0</td>\n",
       "    </tr>\n",
       "    <tr>\n",
       "      <th>1</th>\n",
       "      <td>Chapter 3: The Loop Control Structure 133\\n\\n ...</td>\n",
       "      <td>chapter loop control structure write program p...</td>\n",
       "      <td>1</td>\n",
       "    </tr>\n",
       "    <tr>\n",
       "      <th>2</th>\n",
       "      <td>\\n\\n232\\n\\nCHAPTER 9 CENTER OF MASS AND LINEA...</td>\n",
       "      <td>chapter center mass linear momentum sample pro...</td>\n",
       "      <td>0</td>\n",
       "    </tr>\n",
       "    <tr>\n",
       "      <th>3</th>\n",
       "      <td>204\\n\\n9°22 &lt;r A 60 kg skier starts from rest ...</td>\n",
       "      <td>skier start rest height mabove end ofa ski jum...</td>\n",
       "      <td>0</td>\n",
       "    </tr>\n",
       "    <tr>\n",
       "      <th>4</th>\n",
       "      <td>22-3 THE ELECTRIC FIELD DUE TO A DIPOLE\\n\\nWe ...</td>\n",
       "      <td>electric field due dipole next must find orien...</td>\n",
       "      <td>0</td>\n",
       "    </tr>\n",
       "  </tbody>\n",
       "</table>\n",
       "</div>"
      ],
      "text/plain": [
       "                                       ExtractedText  \\\n",
       "0  we ‘COORDINATION COMPOUNDS:\\nINATION COMPOUNDS...   \n",
       "1  Chapter 3: The Loop Control Structure 133\\n\\n ...   \n",
       "2   \\n\\n232\\n\\nCHAPTER 9 CENTER OF MASS AND LINEA...   \n",
       "3  204\\n\\n9°22 <r A 60 kg skier starts from rest ...   \n",
       "4  22-3 THE ELECTRIC FIELD DUE TO A DIPOLE\\n\\nWe ...   \n",
       "\n",
       "                                    PreprocessedText  Topic  \n",
       "0  coordination compound ination compound nhy ato...      0  \n",
       "1  chapter loop control structure write program p...      1  \n",
       "2  chapter center mass linear momentum sample pro...      0  \n",
       "3  skier start rest height mabove end ofa ski jum...      0  \n",
       "4  electric field due dipole next must find orien...      0  "
      ]
     },
     "execution_count": 9,
     "metadata": {},
     "output_type": "execute_result"
    }
   ],
   "source": [
    "df.head()"
   ]
  },
  {
   "cell_type": "code",
   "execution_count": 10,
   "metadata": {
    "execution": {
     "iopub.execute_input": "2020-10-31T07:39:54.750828Z",
     "iopub.status.busy": "2020-10-31T07:39:54.729652Z",
     "iopub.status.idle": "2020-10-31T07:39:54.977648Z",
     "shell.execute_reply": "2020-10-31T07:39:54.976772Z"
    },
    "papermill": {
     "duration": 0.301397,
     "end_time": "2020-10-31T07:39:54.977789",
     "exception": false,
     "start_time": "2020-10-31T07:39:54.676392",
     "status": "completed"
    },
    "tags": []
   },
   "outputs": [],
   "source": [
    "X=df['PreprocessedText'].values\n",
    "y=df['Topic'].values\n",
    "X_tokens=[]\n",
    "for sentence in X:\n",
    "    X_tokens.append(sentence.split())\n",
    "    \n",
    "#print(X_tokens[3])"
   ]
  },
  {
   "cell_type": "code",
   "execution_count": 11,
   "metadata": {
    "execution": {
     "iopub.execute_input": "2020-10-31T07:39:55.078980Z",
     "iopub.status.busy": "2020-10-31T07:39:55.073775Z",
     "iopub.status.idle": "2020-10-31T07:39:55.485740Z",
     "shell.execute_reply": "2020-10-31T07:39:55.485016Z"
    },
    "papermill": {
     "duration": 0.467065,
     "end_time": "2020-10-31T07:39:55.485870",
     "exception": false,
     "start_time": "2020-10-31T07:39:55.018805",
     "status": "completed"
    },
    "tags": []
   },
   "outputs": [
    {
     "name": "stdout",
     "output_type": "stream",
     "text": [
      "57842\n"
     ]
    }
   ],
   "source": [
    "L=[]\n",
    "for text in X_tokens:\n",
    "    for word in text:\n",
    "        L.append(word)\n",
    "num_unique_tokens=len(set(L))\n",
    "#print(set(L))\n",
    "print(num_unique_tokens)"
   ]
  },
  {
   "cell_type": "code",
   "execution_count": 12,
   "metadata": {
    "execution": {
     "iopub.execute_input": "2020-10-31T07:39:55.575430Z",
     "iopub.status.busy": "2020-10-31T07:39:55.574297Z",
     "iopub.status.idle": "2020-10-31T07:39:55.578516Z",
     "shell.execute_reply": "2020-10-31T07:39:55.579161Z"
    },
    "papermill": {
     "duration": 0.052094,
     "end_time": "2020-10-31T07:39:55.579343",
     "exception": false,
     "start_time": "2020-10-31T07:39:55.527249",
     "status": "completed"
    },
    "tags": []
   },
   "outputs": [
    {
     "data": {
      "text/plain": [
       "'MAX_DOCUMENT_LENGTH=np.max([len(text.split()) for text in X])\\ntokenizer=Tokenizer()\\ntokenizer.fit_on_texts(X)\\nsequences=tokenizer.texts_to_sequences(X)\\nX=pad_sequences(sequences,maxlen=MAX_DOCUMENT_LENGTH)\\nword_index=tokenizer.word_index\\nprint(\"Found {0} unique tokens\".format(len(word_index)))'"
      ]
     },
     "execution_count": 12,
     "metadata": {},
     "output_type": "execute_result"
    }
   ],
   "source": [
    "\"\"\"MAX_DOCUMENT_LENGTH=np.max([len(text.split()) for text in X])\n",
    "tokenizer=Tokenizer()\n",
    "tokenizer.fit_on_texts(X)\n",
    "sequences=tokenizer.texts_to_sequences(X)\n",
    "X=pad_sequences(sequences,maxlen=MAX_DOCUMENT_LENGTH)\n",
    "word_index=tokenizer.word_index\n",
    "print(\"Found {0} unique tokens\".format(len(word_index)))\"\"\""
   ]
  },
  {
   "cell_type": "code",
   "execution_count": 13,
   "metadata": {
    "execution": {
     "iopub.execute_input": "2020-10-31T07:39:55.671888Z",
     "iopub.status.busy": "2020-10-31T07:39:55.670822Z",
     "iopub.status.idle": "2020-10-31T07:39:55.674581Z",
     "shell.execute_reply": "2020-10-31T07:39:55.673832Z"
    },
    "papermill": {
     "duration": 0.053267,
     "end_time": "2020-10-31T07:39:55.674716",
     "exception": false,
     "start_time": "2020-10-31T07:39:55.621449",
     "status": "completed"
    },
    "tags": []
   },
   "outputs": [],
   "source": [
    "X_train, X_test, y_train, y_test=\\\n",
    "train_test_split(X,y,test_size=0.30,random_state=62)"
   ]
  },
  {
   "cell_type": "code",
   "execution_count": 14,
   "metadata": {
    "execution": {
     "iopub.execute_input": "2020-10-31T07:39:55.788986Z",
     "iopub.status.busy": "2020-10-31T07:39:55.783711Z",
     "iopub.status.idle": "2020-10-31T07:41:15.658228Z",
     "shell.execute_reply": "2020-10-31T07:41:15.658917Z"
    },
    "papermill": {
     "duration": 79.940966,
     "end_time": "2020-10-31T07:41:15.659084",
     "exception": false,
     "start_time": "2020-10-31T07:39:55.718118",
     "status": "completed"
    },
    "tags": []
   },
   "outputs": [
    {
     "name": "stdout",
     "output_type": "stream",
     "text": [
      "Preparation of custom Word Embeddings took 1.3307416796684266 minutes\n"
     ]
    }
   ],
   "source": [
    "EMB_DIM=100\n",
    "t1=time()\n",
    "w2v=Word2Vec(X_tokens,\n",
    "             size=EMB_DIM,\n",
    "             window=70,\n",
    "             min_count=1,\n",
    "             iter=10,\n",
    "             workers=multiprocessing.cpu_count())\n",
    "t2=time()\n",
    "print(\"Preparation of custom Word Embeddings took {0} minutes\".format((t2-t1)/60))"
   ]
  },
  {
   "cell_type": "code",
   "execution_count": 15,
   "metadata": {
    "execution": {
     "iopub.execute_input": "2020-10-31T07:41:15.750749Z",
     "iopub.status.busy": "2020-10-31T07:41:15.749920Z",
     "iopub.status.idle": "2020-10-31T07:41:15.753463Z",
     "shell.execute_reply": "2020-10-31T07:41:15.752829Z"
    },
    "papermill": {
     "duration": 0.051615,
     "end_time": "2020-10-31T07:41:15.753604",
     "exception": false,
     "start_time": "2020-10-31T07:41:15.701989",
     "status": "completed"
    },
    "tags": []
   },
   "outputs": [],
   "source": [
    "word_vectors=w2v.wv"
   ]
  },
  {
   "cell_type": "code",
   "execution_count": 16,
   "metadata": {
    "execution": {
     "iopub.execute_input": "2020-10-31T07:41:15.846931Z",
     "iopub.status.busy": "2020-10-31T07:41:15.846130Z",
     "iopub.status.idle": "2020-10-31T07:41:16.363769Z",
     "shell.execute_reply": "2020-10-31T07:41:16.363048Z"
    },
    "papermill": {
     "duration": 0.566843,
     "end_time": "2020-10-31T07:41:16.363922",
     "exception": false,
     "start_time": "2020-10-31T07:41:15.797079",
     "status": "completed"
    },
    "tags": []
   },
   "outputs": [
    {
     "name": "stdout",
     "output_type": "stream",
     "text": [
      "<class 'gensim.models.keyedvectors.Word2VecKeyedVectors'>\n"
     ]
    }
   ],
   "source": [
    "print(type(word_vectors))\n",
    "f=\"./subjects.100d.bin\"\n",
    "word_vectors.save(f)"
   ]
  },
  {
   "cell_type": "code",
   "execution_count": 17,
   "metadata": {
    "execution": {
     "iopub.execute_input": "2020-10-31T07:41:16.458541Z",
     "iopub.status.busy": "2020-10-31T07:41:16.457762Z",
     "iopub.status.idle": "2020-10-31T07:41:17.074075Z",
     "shell.execute_reply": "2020-10-31T07:41:17.074678Z"
    },
    "papermill": {
     "duration": 0.666314,
     "end_time": "2020-10-31T07:41:17.074860",
     "exception": false,
     "start_time": "2020-10-31T07:41:16.408546",
     "status": "completed"
    },
    "tags": []
   },
   "outputs": [],
   "source": [
    "word_vectors=KeyedVectors.load(f,mmap='r')"
   ]
  },
  {
   "cell_type": "code",
   "execution_count": 18,
   "metadata": {
    "execution": {
     "iopub.execute_input": "2020-10-31T07:41:17.176524Z",
     "iopub.status.busy": "2020-10-31T07:41:17.171239Z",
     "iopub.status.idle": "2020-10-31T07:41:17.187990Z",
     "shell.execute_reply": "2020-10-31T07:41:17.188580Z"
    },
    "papermill": {
     "duration": 0.069854,
     "end_time": "2020-10-31T07:41:17.188761",
     "exception": false,
     "start_time": "2020-10-31T07:41:17.118907",
     "status": "completed"
    },
    "tags": []
   },
   "outputs": [],
   "source": [
    "word2index={key:value.index for (key,value) in word_vectors.vocab.items()}"
   ]
  },
  {
   "cell_type": "code",
   "execution_count": 19,
   "metadata": {
    "execution": {
     "iopub.execute_input": "2020-10-31T07:41:17.282928Z",
     "iopub.status.busy": "2020-10-31T07:41:17.282092Z",
     "iopub.status.idle": "2020-10-31T07:41:17.286433Z",
     "shell.execute_reply": "2020-10-31T07:41:17.285664Z"
    },
    "papermill": {
     "duration": 0.05337,
     "end_time": "2020-10-31T07:41:17.286564",
     "exception": false,
     "start_time": "2020-10-31T07:41:17.233194",
     "status": "completed"
    },
    "tags": []
   },
   "outputs": [
    {
     "name": "stdout",
     "output_type": "stream",
     "text": [
      "57842\n"
     ]
    }
   ],
   "source": [
    "print(len(word_vectors.vocab))"
   ]
  },
  {
   "cell_type": "code",
   "execution_count": 20,
   "metadata": {
    "execution": {
     "iopub.execute_input": "2020-10-31T07:41:17.382683Z",
     "iopub.status.busy": "2020-10-31T07:41:17.381884Z",
     "iopub.status.idle": "2020-10-31T07:41:17.385219Z",
     "shell.execute_reply": "2020-10-31T07:41:17.384424Z"
    },
    "papermill": {
     "duration": 0.054236,
     "end_time": "2020-10-31T07:41:17.385425",
     "exception": false,
     "start_time": "2020-10-31T07:41:17.331189",
     "status": "completed"
    },
    "tags": []
   },
   "outputs": [],
   "source": [
    "def test_similarity(text):\n",
    "    result=word_vectors.similar_by_word(text)\n",
    "    print(\"Most similar words to {0} are:  \".format(text),result[:3])"
   ]
  },
  {
   "cell_type": "code",
   "execution_count": 21,
   "metadata": {
    "execution": {
     "iopub.execute_input": "2020-10-31T07:41:17.482828Z",
     "iopub.status.busy": "2020-10-31T07:41:17.481044Z",
     "iopub.status.idle": "2020-10-31T07:41:17.563318Z",
     "shell.execute_reply": "2020-10-31T07:41:17.563962Z"
    },
    "papermill": {
     "duration": 0.13397,
     "end_time": "2020-10-31T07:41:17.564164",
     "exception": false,
     "start_time": "2020-10-31T07:41:17.430194",
     "status": "completed"
    },
    "tags": []
   },
   "outputs": [
    {
     "name": "stdout",
     "output_type": "stream",
     "text": [
      "Most similar words to queue are:   [('rkey', 0.5561319589614868), ('pending', 0.4991931915283203), ('whileq', 0.49315372109413147)]\n",
      "Most similar words to network are:   [('topology', 0.6179526448249817), ('bryson', 0.6080610752105713), ('sejnowski', 0.5889403223991394)]\n",
      "Most similar words to flower are:   [('petals', 0.7874423861503601), ('stamens', 0.7541207671165466), ('floral', 0.7344789505004883)]\n",
      "Most similar words to stack are:   [('pop', 0.6487277746200562), ('contarn', 0.5600948333740234), ('togethet', 0.5254797339439392)]\n",
      "Most similar words to genes are:   [('gene', 0.7932099103927612), ('polymorphisms', 0.6707456707954407), ('drosophila', 0.6596246957778931)]\n",
      "Most similar words to vector are:   [('vectors', 0.7822043895721436), ('pulted', 0.6223251819610596), ('fruitcake', 0.6065764427185059)]\n"
     ]
    }
   ],
   "source": [
    "test_similarity(\"queue\")\n",
    "test_similarity(\"network\")\n",
    "test_similarity(\"flower\")\n",
    "test_similarity(\"stack\")\n",
    "test_similarity(\"genes\")\n",
    "test_similarity(\"vector\")"
   ]
  },
  {
   "cell_type": "code",
   "execution_count": 22,
   "metadata": {
    "execution": {
     "iopub.execute_input": "2020-10-31T07:41:17.672194Z",
     "iopub.status.busy": "2020-10-31T07:41:17.671106Z",
     "iopub.status.idle": "2020-10-31T07:41:17.674471Z",
     "shell.execute_reply": "2020-10-31T07:41:17.673858Z"
    },
    "papermill": {
     "duration": 0.062366,
     "end_time": "2020-10-31T07:41:17.674605",
     "exception": false,
     "start_time": "2020-10-31T07:41:17.612239",
     "status": "completed"
    },
    "tags": []
   },
   "outputs": [],
   "source": [
    "def pca_2Dplot(model,words=None,sample=0):\n",
    "    if words == None:\n",
    "        if sample>0:\n",
    "            words = np.random.choice(list(model.vocab.keys()),sample)\n",
    "        else:\n",
    "            words = [word for word in model.vocab]\n",
    "    \n",
    "    wordVectors=np.array([model[w] for w in words])\n",
    "    wordVectors2D=PCA().fit_transform(wordVectors)[:,:2]\n",
    "    plt.figure(figsize=(6,6))\n",
    "    plt.scatter(wordVectors2D[:,0], wordVectors2D[:,1],edgecolors='k',c='r')\n",
    "    for word,(x,y) in zip(words,wordVectors2D):\n",
    "        plt.text(x+0.05,y+0.05,word)"
   ]
  },
  {
   "cell_type": "code",
   "execution_count": 23,
   "metadata": {
    "execution": {
     "iopub.execute_input": "2020-10-31T07:41:17.816792Z",
     "iopub.status.busy": "2020-10-31T07:41:17.815821Z",
     "iopub.status.idle": "2020-10-31T07:41:18.079562Z",
     "shell.execute_reply": "2020-10-31T07:41:18.078804Z"
    },
    "papermill": {
     "duration": 0.358536,
     "end_time": "2020-10-31T07:41:18.079693",
     "exception": false,
     "start_time": "2020-10-31T07:41:17.721157",
     "status": "completed"
    },
    "tags": []
   },
   "outputs": [
    {
     "data": {
      "image/png": "[encoded data removed]",
      "text/plain": [
       "<Figure size 432x432 with 1 Axes>"
      ]
     },
     "metadata": {
      "needs_background": "light"
     },
     "output_type": "display_data"
    }
   ],
   "source": [
    "pca_2Dplot(word_vectors,words=['queue','network','stack','genes','flower','animal','neural','machine','page','memory','hormone','fever'],sample=0)"
   ]
  },
  {
   "cell_type": "code",
   "execution_count": 24,
   "metadata": {
    "execution": {
     "iopub.execute_input": "2020-10-31T07:41:18.184186Z",
     "iopub.status.busy": "2020-10-31T07:41:18.182775Z",
     "iopub.status.idle": "2020-10-31T07:41:18.186995Z",
     "shell.execute_reply": "2020-10-31T07:41:18.186328Z"
    },
    "papermill": {
     "duration": 0.059455,
     "end_time": "2020-10-31T07:41:18.187148",
     "exception": false,
     "start_time": "2020-10-31T07:41:18.127693",
     "status": "completed"
    },
    "tags": []
   },
   "outputs": [],
   "source": [
    "def create_embedding_matrix(word_vectors,word2index,embedding_dim):\n",
    "    unk=0\n",
    "    vocab_size=len(word_vectors.vectors)+1\n",
    "    embedding_matrix=np.zeros((vocab_size,embedding_dim))\n",
    "    for (word,idx) in word2index.items():\n",
    "        embedding_matrix[idx]=word_vectors[word]\n",
    "    return unk,embedding_matrix"
   ]
  },
  {
   "cell_type": "code",
   "execution_count": 25,
   "metadata": {
    "execution": {
     "iopub.execute_input": "2020-10-31T07:41:18.298861Z",
     "iopub.status.busy": "2020-10-31T07:41:18.298047Z",
     "iopub.status.idle": "2020-10-31T07:41:18.548199Z",
     "shell.execute_reply": "2020-10-31T07:41:18.548853Z"
    },
    "papermill": {
     "duration": 0.308862,
     "end_time": "2020-10-31T07:41:18.549030",
     "exception": false,
     "start_time": "2020-10-31T07:41:18.240168",
     "status": "completed"
    },
    "tags": []
   },
   "outputs": [],
   "source": [
    "vocab_size=len(word_vectors.vectors)+1\n",
    "embedding_dim=100                    \n",
    "unknown_count,embedding_matrix=create_embedding_matrix(word_vectors,word2index,embedding_dim)"
   ]
  },
  {
   "cell_type": "code",
   "execution_count": 26,
   "metadata": {
    "execution": {
     "iopub.execute_input": "2020-10-31T07:41:18.650566Z",
     "iopub.status.busy": "2020-10-31T07:41:18.649667Z",
     "iopub.status.idle": "2020-10-31T07:41:18.654253Z",
     "shell.execute_reply": "2020-10-31T07:41:18.653308Z"
    },
    "papermill": {
     "duration": 0.057974,
     "end_time": "2020-10-31T07:41:18.654435",
     "exception": false,
     "start_time": "2020-10-31T07:41:18.596461",
     "status": "completed"
    },
    "tags": []
   },
   "outputs": [
    {
     "name": "stdout",
     "output_type": "stream",
     "text": [
      "(57843, 100)\n"
     ]
    }
   ],
   "source": [
    "print(embedding_matrix.shape)"
   ]
  },
  {
   "cell_type": "code",
   "execution_count": 27,
   "metadata": {
    "execution": {
     "iopub.execute_input": "2020-10-31T07:41:18.761534Z",
     "iopub.status.busy": "2020-10-31T07:41:18.760437Z",
     "iopub.status.idle": "2020-10-31T07:41:18.764101Z",
     "shell.execute_reply": "2020-10-31T07:41:18.763401Z"
    },
    "papermill": {
     "duration": 0.05953,
     "end_time": "2020-10-31T07:41:18.764232",
     "exception": false,
     "start_time": "2020-10-31T07:41:18.704702",
     "status": "completed"
    },
    "tags": []
   },
   "outputs": [],
   "source": [
    "def stringToTensor(data,word2index):\n",
    "    Sequence=[]\n",
    "    unk=0\n",
    "    for sentence in data:\n",
    "        sentence=sentence.split()\n",
    "        tensor=[]\n",
    "        for word in sentence:\n",
    "            if word in word2index:\n",
    "                tensor.append(word2index[word])\n",
    "            else:\n",
    "                unk+=1\n",
    "        Sequence.append(tensor)\n",
    "    return unk,Sequence"
   ]
  },
  {
   "cell_type": "code",
   "execution_count": 28,
   "metadata": {
    "execution": {
     "iopub.execute_input": "2020-10-31T07:41:18.876672Z",
     "iopub.status.busy": "2020-10-31T07:41:18.871443Z",
     "iopub.status.idle": "2020-10-31T07:41:19.588200Z",
     "shell.execute_reply": "2020-10-31T07:41:19.587422Z"
    },
    "papermill": {
     "duration": 0.773495,
     "end_time": "2020-10-31T07:41:19.588353",
     "exception": false,
     "start_time": "2020-10-31T07:41:18.814858",
     "status": "completed"
    },
    "tags": []
   },
   "outputs": [],
   "source": [
    "unk_count,X_train_tensor=stringToTensor(X_train,word2index)\n",
    "unk_count_test,X_test_tensor=stringToTensor(X_test,word2index)"
   ]
  },
  {
   "cell_type": "code",
   "execution_count": 29,
   "metadata": {
    "execution": {
     "iopub.execute_input": "2020-10-31T07:41:19.691868Z",
     "iopub.status.busy": "2020-10-31T07:41:19.690916Z",
     "iopub.status.idle": "2020-10-31T07:41:19.696148Z",
     "shell.execute_reply": "2020-10-31T07:41:19.695570Z"
    },
    "papermill": {
     "duration": 0.058986,
     "end_time": "2020-10-31T07:41:19.696293",
     "exception": false,
     "start_time": "2020-10-31T07:41:19.637307",
     "status": "completed"
    },
    "tags": []
   },
   "outputs": [
    {
     "name": "stdout",
     "output_type": "stream",
     "text": [
      "0\n",
      "0\n"
     ]
    }
   ],
   "source": [
    "print(unk_count)\n",
    "print(unk_count_test)"
   ]
  },
  {
   "cell_type": "code",
   "execution_count": 30,
   "metadata": {
    "execution": {
     "iopub.execute_input": "2020-10-31T07:41:19.801430Z",
     "iopub.status.busy": "2020-10-31T07:41:19.800488Z",
     "iopub.status.idle": "2020-10-31T07:41:19.805144Z",
     "shell.execute_reply": "2020-10-31T07:41:19.804543Z"
    },
    "papermill": {
     "duration": 0.060247,
     "end_time": "2020-10-31T07:41:19.805261",
     "exception": false,
     "start_time": "2020-10-31T07:41:19.745014",
     "status": "completed"
    },
    "tags": []
   },
   "outputs": [
    {
     "data": {
      "text/plain": [
       "'\\nEOS_INDEX=1\\nEOS_TOKEN=\"EOS\"\\ndef split_data_into_contexts(context_size,word2id,X_data,Y_data):\\n    Xc=[]\\n    Yc=[]\\n    unk_count=0\\n    span=2*context_size+1\\n    buffer=collections.deque(maxlen=span)\\n    padding=[(EOS_TOKEN,None)]*context_size\\n    buffer+=padding+X_data[:context_size]\\n    for item in (X_data[context_size]+padding):\\n        buffer.append(item)\\n        window_ids=np.array([word2id[word] if (word in word2id) else UNK_INDEX])\\n'"
      ]
     },
     "execution_count": 30,
     "metadata": {},
     "output_type": "execute_result"
    }
   ],
   "source": [
    "\"\"\"\n",
    "EOS_INDEX=1\n",
    "EOS_TOKEN=\"EOS\"\n",
    "def split_data_into_contexts(context_size,word2id,X_data,Y_data):\n",
    "    Xc=[]\n",
    "    Yc=[]\n",
    "    unk_count=0\n",
    "    span=2*context_size+1\n",
    "    buffer=collections.deque(maxlen=span)\n",
    "    padding=[(EOS_TOKEN,None)]*context_size\n",
    "    buffer+=padding+X_data[:context_size]\n",
    "    for item in (X_data[context_size]+padding):\n",
    "        buffer.append(item)\n",
    "        window_ids=np.array([word2id[word] if (word in word2id) else UNK_INDEX])\n",
    "\"\"\""
   ]
  },
  {
   "cell_type": "code",
   "execution_count": 31,
   "metadata": {
    "execution": {
     "iopub.execute_input": "2020-10-31T07:41:19.964907Z",
     "iopub.status.busy": "2020-10-31T07:41:19.928365Z",
     "iopub.status.idle": "2020-10-31T07:41:20.001507Z",
     "shell.execute_reply": "2020-10-31T07:41:20.000580Z"
    },
    "papermill": {
     "duration": 0.147154,
     "end_time": "2020-10-31T07:41:20.001668",
     "exception": false,
     "start_time": "2020-10-31T07:41:19.854514",
     "status": "completed"
    },
    "tags": []
   },
   "outputs": [],
   "source": [
    "MAX_DOCUMENT_LENGTH=np.max([len(text.split()) for text in X_train])\n",
    "Context_length=MAX_DOCUMENT_LENGTH"
   ]
  },
  {
   "cell_type": "code",
   "execution_count": 32,
   "metadata": {
    "execution": {
     "iopub.execute_input": "2020-10-31T07:41:20.132879Z",
     "iopub.status.busy": "2020-10-31T07:41:20.131769Z",
     "iopub.status.idle": "2020-10-31T07:41:20.562948Z",
     "shell.execute_reply": "2020-10-31T07:41:20.562191Z"
    },
    "papermill": {
     "duration": 0.50939,
     "end_time": "2020-10-31T07:41:20.563090",
     "exception": false,
     "start_time": "2020-10-31T07:41:20.053700",
     "status": "completed"
    },
    "tags": []
   },
   "outputs": [],
   "source": [
    "X_train_tensor=pad_sequences(X_train_tensor,padding='post',maxlen=MAX_DOCUMENT_LENGTH)\n",
    "X_test_tensor=pad_sequences(X_test_tensor,padding='post',maxlen=MAX_DOCUMENT_LENGTH)"
   ]
  },
  {
   "cell_type": "code",
   "execution_count": 33,
   "metadata": {
    "execution": {
     "iopub.execute_input": "2020-10-31T07:41:20.671672Z",
     "iopub.status.busy": "2020-10-31T07:41:20.670820Z",
     "iopub.status.idle": "2020-10-31T07:41:20.815253Z",
     "shell.execute_reply": "2020-10-31T07:41:20.814288Z"
    },
    "papermill": {
     "duration": 0.202712,
     "end_time": "2020-10-31T07:41:20.815460",
     "exception": false,
     "start_time": "2020-10-31T07:41:20.612748",
     "status": "completed"
    },
    "tags": []
   },
   "outputs": [
    {
     "name": "stdout",
     "output_type": "stream",
     "text": [
      "Model: \"sequential\"\n",
      "_________________________________________________________________\n",
      "Layer (type)                 Output Shape              Param #   \n",
      "=================================================================\n",
      "dense (Dense)                (None, 700)               404600    \n",
      "_________________________________________________________________\n",
      "dense_1 (Dense)              (None, 800)               560800    \n",
      "_________________________________________________________________\n",
      "dense_2 (Dense)              (None, 1)                 801       \n",
      "=================================================================\n",
      "Total params: 966,201\n",
      "Trainable params: 966,201\n",
      "Non-trainable params: 0\n",
      "_________________________________________________________________\n"
     ]
    }
   ],
   "source": [
    "modelBase1=Sequential()\n",
    "modelBase1.add(layers.Dense(700,input_dim=MAX_DOCUMENT_LENGTH,activation='relu'))\n",
    "modelBase1.add(layers.Dense(800,activation='relu'))\n",
    "modelBase1.add(layers.Dense(1,activation='sigmoid'))\n",
    "modelBase1.compile(optimizer='adam',\n",
    "                  loss='binary_crossentropy',\n",
    "                  metrics=['accuracy'])\n",
    "modelBase1.summary()"
   ]
  },
  {
   "cell_type": "code",
   "execution_count": 34,
   "metadata": {
    "execution": {
     "iopub.execute_input": "2020-10-31T07:41:20.929004Z",
     "iopub.status.busy": "2020-10-31T07:41:20.928180Z",
     "iopub.status.idle": "2020-10-31T07:41:34.892348Z",
     "shell.execute_reply": "2020-10-31T07:41:34.891630Z"
    },
    "papermill": {
     "duration": 14.023005,
     "end_time": "2020-10-31T07:41:34.892502",
     "exception": false,
     "start_time": "2020-10-31T07:41:20.869497",
     "status": "completed"
    },
    "tags": []
   },
   "outputs": [
    {
     "name": "stdout",
     "output_type": "stream",
     "text": [
      "Epoch 1/12\n",
      "159/159 [==============================] - 1s 8ms/step - loss: 418.9338 - accuracy: 0.6071 - val_loss: 90.8153 - val_accuracy: 0.6265\n",
      "Epoch 2/12\n",
      "159/159 [==============================] - 1s 8ms/step - loss: 29.1766 - accuracy: 0.7697 - val_loss: 50.6229 - val_accuracy: 0.6274\n",
      "Epoch 3/12\n",
      "159/159 [==============================] - 1s 7ms/step - loss: 7.6601 - accuracy: 0.8653 - val_loss: 44.2735 - val_accuracy: 0.6421\n",
      "Epoch 4/12\n",
      "159/159 [==============================] - 1s 7ms/step - loss: 3.4448 - accuracy: 0.9164 - val_loss: 41.9801 - val_accuracy: 0.6619\n",
      "Epoch 5/12\n",
      "159/159 [==============================] - 1s 7ms/step - loss: 1.7496 - accuracy: 0.9470 - val_loss: 44.7712 - val_accuracy: 0.6536\n",
      "Epoch 6/12\n",
      "159/159 [==============================] - 1s 7ms/step - loss: 1.9018 - accuracy: 0.9472 - val_loss: 54.3247 - val_accuracy: 0.6536\n",
      "Epoch 7/12\n",
      "159/159 [==============================] - 1s 7ms/step - loss: 1.9124 - accuracy: 0.9503 - val_loss: 52.2784 - val_accuracy: 0.6550\n",
      "Epoch 8/12\n",
      "159/159 [==============================] - 1s 6ms/step - loss: 1.5069 - accuracy: 0.9592 - val_loss: 45.7471 - val_accuracy: 0.6601\n",
      "Epoch 9/12\n",
      "159/159 [==============================] - 1s 7ms/step - loss: 0.9717 - accuracy: 0.9671 - val_loss: 47.3248 - val_accuracy: 0.6569\n",
      "Epoch 10/12\n",
      "159/159 [==============================] - 1s 6ms/step - loss: 2.2904 - accuracy: 0.9507 - val_loss: 45.9896 - val_accuracy: 0.6371\n",
      "Epoch 11/12\n",
      "159/159 [==============================] - 1s 7ms/step - loss: 3.1192 - accuracy: 0.9373 - val_loss: 47.2421 - val_accuracy: 0.6610\n",
      "Epoch 12/12\n",
      "159/159 [==============================] - 1s 7ms/step - loss: 3.4909 - accuracy: 0.9334 - val_loss: 46.1436 - val_accuracy: 0.6490\n",
      "Base model 1 took 13.959722757339478 secs to train\n"
     ]
    }
   ],
   "source": [
    "t1=time()\n",
    "modelBase1.fit(X_train_tensor,\n",
    "              y_train,\n",
    "              batch_size=32,\n",
    "              epochs=12,\n",
    "              verbose=True,\n",
    "              validation_data=(X_test_tensor,y_test))\n",
    "t2=time()\n",
    "print(\"Base model 1 took {} secs to train\".format(t2-t1))"
   ]
  },
  {
   "cell_type": "code",
   "execution_count": 35,
   "metadata": {
    "execution": {
     "iopub.execute_input": "2020-10-31T07:41:35.190443Z",
     "iopub.status.busy": "2020-10-31T07:41:35.189615Z",
     "iopub.status.idle": "2020-10-31T07:41:35.432788Z",
     "shell.execute_reply": "2020-10-31T07:41:35.433457Z"
    },
    "papermill": {
     "duration": 0.396403,
     "end_time": "2020-10-31T07:41:35.433653",
     "exception": false,
     "start_time": "2020-10-31T07:41:35.037250",
     "status": "completed"
    },
    "tags": []
   },
   "outputs": [
    {
     "name": "stdout",
     "output_type": "stream",
     "text": [
      "Training Accuracy : 0.7578864353312302\n",
      "Testing  Accuracy : 0.7299908003679852\n"
     ]
    }
   ],
   "source": [
    "scalar1=MinMaxScaler()\n",
    "scalar2=MinMaxScaler()\n",
    "scalar1.fit(X_train_tensor)\n",
    "X_train_norm=scalar1.transform(X_train_tensor)\n",
    "scalar2.fit(X_test_tensor)\n",
    "X_test_norm=scalar2.transform(X_test_tensor)\n",
    "\n",
    "modelBase2=LogisticRegression(max_iter=1700)\n",
    "modelBase2.fit(X_train_norm,y_train)\n",
    "y_pred_train=modelBase2.predict(X_train_norm)\n",
    "score_train=accuracy_score(y_train,y_pred_train)\n",
    "y_pred_test=modelBase2.predict(X_test_norm)\n",
    "score_test=accuracy_score(y_test,y_pred_test)\n",
    "print(\"Training Accuracy : {0}\".format(score_train))\n",
    "print(\"Testing  Accuracy : {0}\".format(score_test))"
   ]
  },
  {
   "cell_type": "code",
   "execution_count": 36,
   "metadata": {
    "execution": {
     "iopub.execute_input": "2020-10-31T07:41:35.732583Z",
     "iopub.status.busy": "2020-10-31T07:41:35.731785Z",
     "iopub.status.idle": "2020-10-31T07:41:36.179083Z",
     "shell.execute_reply": "2020-10-31T07:41:36.179941Z"
    },
    "papermill": {
     "duration": 0.602014,
     "end_time": "2020-10-31T07:41:36.180161",
     "exception": false,
     "start_time": "2020-10-31T07:41:35.578147",
     "status": "completed"
    },
    "scrolled": true,
    "tags": []
   },
   "outputs": [
    {
     "name": "stdout",
     "output_type": "stream",
     "text": [
      "Model: \"sequential_1\"\n",
      "_________________________________________________________________\n",
      "Layer (type)                 Output Shape              Param #   \n",
      "=================================================================\n",
      "embedding (Embedding)        (None, 577, 100)          5784300   \n",
      "_________________________________________________________________\n",
      "flatten (Flatten)            (None, 57700)             0         \n",
      "_________________________________________________________________\n",
      "dense_3 (Dense)              (None, 380)               21926380  \n",
      "_________________________________________________________________\n",
      "dense_4 (Dense)              (None, 1)                 381       \n",
      "=================================================================\n",
      "Total params: 27,711,061\n",
      "Trainable params: 21,926,761\n",
      "Non-trainable params: 5,784,300\n",
      "_________________________________________________________________\n"
     ]
    }
   ],
   "source": [
    "model_C1=Sequential()\n",
    "model_C1.add(layers.Embedding(embedding_matrix.shape[0],\n",
    "                           embedding_dim,\n",
    "                           weights=[embedding_matrix],\n",
    "                           input_length=Context_length,\n",
    "                           trainable=False))\n",
    "#modelG.add(layers.GlobalMaxPool1D())\n",
    "model_C1.add(layers.Flatten())\n",
    "model_C1.add(layers.Dense(380,activation=\"relu\"))\n",
    "model_C1.add(layers.Dense(1,activation=\"sigmoid\"))\n",
    "model_C1.compile(optimizer=\"adam\",\n",
    "              loss=\"binary_crossentropy\",\n",
    "              metrics=[\"accuracy\"])\n",
    "model_C1.summary()"
   ]
  },
  {
   "cell_type": "code",
   "execution_count": 37,
   "metadata": {
    "execution": {
     "iopub.execute_input": "2020-10-31T07:41:36.476584Z",
     "iopub.status.busy": "2020-10-31T07:41:36.475621Z",
     "iopub.status.idle": "2020-10-31T07:41:36.480829Z",
     "shell.execute_reply": "2020-10-31T07:41:36.480157Z"
    },
    "papermill": {
     "duration": 0.155194,
     "end_time": "2020-10-31T07:41:36.480962",
     "exception": false,
     "start_time": "2020-10-31T07:41:36.325768",
     "status": "completed"
    },
    "tags": []
   },
   "outputs": [
    {
     "name": "stdout",
     "output_type": "stream",
     "text": [
      "(5072, 577)\n",
      "(2174, 577)\n"
     ]
    }
   ],
   "source": [
    "print(X_train_tensor.shape)\n",
    "print(X_test_tensor.shape)"
   ]
  },
  {
   "cell_type": "code",
   "execution_count": 38,
   "metadata": {
    "execution": {
     "iopub.execute_input": "2020-10-31T07:41:36.780143Z",
     "iopub.status.busy": "2020-10-31T07:41:36.778997Z",
     "iopub.status.idle": "2020-10-31T07:42:39.820829Z",
     "shell.execute_reply": "2020-10-31T07:42:39.821485Z"
    },
    "papermill": {
     "duration": 63.195868,
     "end_time": "2020-10-31T07:42:39.821677",
     "exception": false,
     "start_time": "2020-10-31T07:41:36.625809",
     "status": "completed"
    },
    "scrolled": false,
    "tags": []
   },
   "outputs": [
    {
     "name": "stdout",
     "output_type": "stream",
     "text": [
      "Epoch 1/10\n",
      "40/40 [==============================] - 6s 154ms/step - loss: 24.0261 - accuracy: 0.8200 - val_loss: 0.9167 - val_accuracy: 0.9535\n",
      "Epoch 2/10\n",
      "40/40 [==============================] - 6s 148ms/step - loss: 0.3596 - accuracy: 0.9858 - val_loss: 0.2284 - val_accuracy: 0.9917\n",
      "Epoch 3/10\n",
      "40/40 [==============================] - 6s 154ms/step - loss: 0.1347 - accuracy: 0.9925 - val_loss: 0.1967 - val_accuracy: 0.9913\n",
      "Epoch 4/10\n",
      "40/40 [==============================] - 6s 160ms/step - loss: 0.2319 - accuracy: 0.9888 - val_loss: 0.2526 - val_accuracy: 0.9894\n",
      "Epoch 5/10\n",
      "40/40 [==============================] - 6s 158ms/step - loss: 0.1139 - accuracy: 0.9927 - val_loss: 0.2389 - val_accuracy: 0.9917\n",
      "Epoch 6/10\n",
      "40/40 [==============================] - 6s 148ms/step - loss: 0.1471 - accuracy: 0.9911 - val_loss: 0.3010 - val_accuracy: 0.9908\n",
      "Epoch 7/10\n",
      "40/40 [==============================] - 6s 148ms/step - loss: 0.0452 - accuracy: 0.9970 - val_loss: 0.3693 - val_accuracy: 0.9834\n",
      "Epoch 8/10\n",
      "40/40 [==============================] - 6s 149ms/step - loss: 0.0572 - accuracy: 0.9970 - val_loss: 0.2682 - val_accuracy: 0.9871\n",
      "Epoch 9/10\n",
      "40/40 [==============================] - 6s 152ms/step - loss: 0.0619 - accuracy: 0.9966 - val_loss: 0.1542 - val_accuracy: 0.9936\n",
      "Epoch 10/10\n",
      "40/40 [==============================] - 6s 152ms/step - loss: 0.0605 - accuracy: 0.9970 - val_loss: 0.2045 - val_accuracy: 0.9936\n",
      "Candidate Model 1 took 63.03783583641052 secs to train\n"
     ]
    }
   ],
   "source": [
    "t1=time()\n",
    "model_C1.fit(X_train_tensor,y_train,\n",
    "          batch_size=128,\n",
    "          epochs=10,\n",
    "          verbose=True,\n",
    "          validation_data=(X_test_tensor,y_test))\n",
    "t2=time()\n",
    "print(\"Candidate Model 1 took {} secs to train\".format(t2-t1))"
   ]
  },
  {
   "cell_type": "code",
   "execution_count": 39,
   "metadata": {
    "execution": {
     "iopub.execute_input": "2020-10-31T07:42:40.449615Z",
     "iopub.status.busy": "2020-10-31T07:42:40.448669Z",
     "iopub.status.idle": "2020-10-31T07:42:40.452064Z",
     "shell.execute_reply": "2020-10-31T07:42:40.451312Z"
    },
    "papermill": {
     "duration": 0.319644,
     "end_time": "2020-10-31T07:42:40.452196",
     "exception": false,
     "start_time": "2020-10-31T07:42:40.132552",
     "status": "completed"
    },
    "tags": []
   },
   "outputs": [],
   "source": [
    "def load_trained_embeddings(pathToEmbedding,word2idx,embedding_dim):\n",
    "    vocab_length=len(word2idx)+1\n",
    "    embedding_matrix=np.zeros((vocab_length,embedding_dim))\n",
    "    f=open(pathToEmbedding,\"r\")\n",
    "    for line in f:\n",
    "        entry=line.split()\n",
    "        if entry[0] in word2idx:\n",
    "            index_of_word=word2idx[entry[0]]\n",
    "            embedding_matrix[index_of_word]=np.asarray(entry[1:],dtype='float32')\n",
    "    f.close()\n",
    "    return embedding_matrix"
   ]
  },
  {
   "cell_type": "code",
   "execution_count": 40,
   "metadata": {
    "execution": {
     "iopub.execute_input": "2020-10-31T07:42:41.079239Z",
     "iopub.status.busy": "2020-10-31T07:42:41.078389Z",
     "iopub.status.idle": "2020-10-31T07:42:46.624921Z",
     "shell.execute_reply": "2020-10-31T07:42:46.624182Z"
    },
    "papermill": {
     "duration": 5.864953,
     "end_time": "2020-10-31T07:42:46.625085",
     "exception": false,
     "start_time": "2020-10-31T07:42:40.760132",
     "status": "completed"
    },
    "tags": []
   },
   "outputs": [],
   "source": [
    "embedding_matrix_pretrained=load_trained_embeddings(filePathGlove,word2index,100)"
   ]
  },
  {
   "cell_type": "code",
   "execution_count": 41,
   "metadata": {
    "execution": {
     "iopub.execute_input": "2020-10-31T07:42:47.259936Z",
     "iopub.status.busy": "2020-10-31T07:42:47.258814Z",
     "iopub.status.idle": "2020-10-31T07:42:47.683107Z",
     "shell.execute_reply": "2020-10-31T07:42:47.682351Z"
    },
    "papermill": {
     "duration": 0.746934,
     "end_time": "2020-10-31T07:42:47.683319",
     "exception": false,
     "start_time": "2020-10-31T07:42:46.936385",
     "status": "completed"
    },
    "tags": []
   },
   "outputs": [
    {
     "name": "stdout",
     "output_type": "stream",
     "text": [
      "Model: \"sequential_2\"\n",
      "_________________________________________________________________\n",
      "Layer (type)                 Output Shape              Param #   \n",
      "=================================================================\n",
      "embedding_1 (Embedding)      (None, 577, 100)          5784300   \n",
      "_________________________________________________________________\n",
      "flatten_1 (Flatten)          (None, 57700)             0         \n",
      "_________________________________________________________________\n",
      "dense_5 (Dense)              (None, 380)               21926380  \n",
      "_________________________________________________________________\n",
      "dense_6 (Dense)              (None, 1)                 381       \n",
      "=================================================================\n",
      "Total params: 27,711,061\n",
      "Trainable params: 21,926,761\n",
      "Non-trainable params: 5,784,300\n",
      "_________________________________________________________________\n"
     ]
    }
   ],
   "source": [
    "model_C2=Sequential()\n",
    "model_C2.add(layers.Embedding(embedding_matrix_pretrained.shape[0],\n",
    "                           embedding_dim,\n",
    "                           weights=[embedding_matrix_pretrained],\n",
    "                           input_length=Context_length,\n",
    "                           trainable=False))\n",
    "#modelG.add(layers.GlobalMaxPool1D())\n",
    "model_C2.add(layers.Flatten())\n",
    "model_C2.add(layers.Dense(380,activation=\"relu\"))\n",
    "model_C2.add(layers.Dense(1,activation=\"sigmoid\"))\n",
    "model_C2.compile(optimizer=\"adam\",\n",
    "              loss=\"binary_crossentropy\",\n",
    "              metrics=[\"accuracy\"])\n",
    "model_C2.summary()"
   ]
  },
  {
   "cell_type": "code",
   "execution_count": 42,
   "metadata": {
    "execution": {
     "iopub.execute_input": "2020-10-31T07:42:48.336449Z",
     "iopub.status.busy": "2020-10-31T07:42:48.335630Z",
     "iopub.status.idle": "2020-10-31T07:43:52.057974Z",
     "shell.execute_reply": "2020-10-31T07:43:52.057315Z"
    },
    "papermill": {
     "duration": 64.064732,
     "end_time": "2020-10-31T07:43:52.058099",
     "exception": false,
     "start_time": "2020-10-31T07:42:47.993367",
     "status": "completed"
    },
    "tags": []
   },
   "outputs": [
    {
     "name": "stdout",
     "output_type": "stream",
     "text": [
      "Epoch 1/10\n",
      "40/40 [==============================] - 6s 150ms/step - loss: 3.4953 - accuracy: 0.7563 - val_loss: 0.1562 - val_accuracy: 0.9388\n",
      "Epoch 2/10\n",
      "40/40 [==============================] - 7s 173ms/step - loss: 0.1018 - accuracy: 0.9750 - val_loss: 0.0956 - val_accuracy: 0.9798\n",
      "Epoch 3/10\n",
      "40/40 [==============================] - 6s 152ms/step - loss: 0.0738 - accuracy: 0.9823 - val_loss: 0.0836 - val_accuracy: 0.9724\n",
      "Epoch 4/10\n",
      "40/40 [==============================] - 6s 161ms/step - loss: 0.0533 - accuracy: 0.9880 - val_loss: 0.0716 - val_accuracy: 0.9821\n",
      "Epoch 5/10\n",
      "40/40 [==============================] - 6s 153ms/step - loss: 0.0422 - accuracy: 0.9917 - val_loss: 0.0726 - val_accuracy: 0.9775\n",
      "Epoch 6/10\n",
      "40/40 [==============================] - 6s 147ms/step - loss: 0.0350 - accuracy: 0.9941 - val_loss: 0.0623 - val_accuracy: 0.9844\n",
      "Epoch 7/10\n",
      "40/40 [==============================] - 6s 152ms/step - loss: 0.0292 - accuracy: 0.9949 - val_loss: 0.0595 - val_accuracy: 0.9862\n",
      "Epoch 8/10\n",
      "40/40 [==============================] - 6s 151ms/step - loss: 0.0242 - accuracy: 0.9965 - val_loss: 0.0577 - val_accuracy: 0.9830\n",
      "Epoch 9/10\n",
      "40/40 [==============================] - 6s 149ms/step - loss: 0.0217 - accuracy: 0.9959 - val_loss: 0.0545 - val_accuracy: 0.9867\n",
      "Epoch 10/10\n",
      "40/40 [==============================] - 6s 153ms/step - loss: 0.0179 - accuracy: 0.9965 - val_loss: 0.0532 - val_accuracy: 0.9862\n",
      "The candidate model 2 took 63.71819448471069 secs to train\n"
     ]
    }
   ],
   "source": [
    "t1=time()\n",
    "model_C2.fit(X_train_tensor,\n",
    "          y_train,\n",
    "          batch_size=128,\n",
    "          epochs=10,\n",
    "          verbose=True,\n",
    "          validation_data=(X_test_tensor,y_test))\n",
    "t2=time()\n",
    "print(\"The candidate model 2 took {0} secs to train\".format(t2-t1))"
   ]
  },
  {
   "cell_type": "code",
   "execution_count": 43,
   "metadata": {
    "execution": {
     "iopub.execute_input": "2020-10-31T07:43:53.014343Z",
     "iopub.status.busy": "2020-10-31T07:43:53.013312Z",
     "iopub.status.idle": "2020-10-31T07:43:53.016765Z",
     "shell.execute_reply": "2020-10-31T07:43:53.015978Z"
    },
    "papermill": {
     "duration": 0.483035,
     "end_time": "2020-10-31T07:43:53.016899",
     "exception": false,
     "start_time": "2020-10-31T07:43:52.533864",
     "status": "completed"
    },
    "tags": []
   },
   "outputs": [],
   "source": [
    "def createSample(Xs):\n",
    "\n",
    "    \"\"\"\n",
    "    for word in words:\n",
    "        if word in word2index:\n",
    "            Xs.append(word2index[word])\n",
    "    print(Xs)\n",
    "    \"\"\"\n",
    "    unk_count,Xs_tensor=stringToTensor(Xs,word2index)\n",
    "    Xs_tensor=pad_sequences(sequences=Xs_tensor,padding='post',maxlen=MAX_DOCUMENT_LENGTH)\n",
    "    return Xs_tensor"
   ]
  },
  {
   "cell_type": "code",
   "execution_count": 44,
   "metadata": {
    "execution": {
     "iopub.execute_input": "2020-10-31T07:43:53.974758Z",
     "iopub.status.busy": "2020-10-31T07:43:53.973699Z",
     "iopub.status.idle": "2020-10-31T07:43:53.977314Z",
     "shell.execute_reply": "2020-10-31T07:43:53.976681Z"
    },
    "papermill": {
     "duration": 0.486299,
     "end_time": "2020-10-31T07:43:53.977450",
     "exception": false,
     "start_time": "2020-10-31T07:43:53.491151",
     "status": "completed"
    },
    "tags": []
   },
   "outputs": [],
   "source": [
    "test1='machine memory binary stack gene flower seed animal'*69\n",
    "test1=createSample([test1])"
   ]
  },
  {
   "cell_type": "code",
   "execution_count": 45,
   "metadata": {
    "execution": {
     "iopub.execute_input": "2020-10-31T07:43:54.959101Z",
     "iopub.status.busy": "2020-10-31T07:43:54.958022Z",
     "iopub.status.idle": "2020-10-31T07:43:55.095485Z",
     "shell.execute_reply": "2020-10-31T07:43:55.094294Z"
    },
    "papermill": {
     "duration": 0.618056,
     "end_time": "2020-10-31T07:43:55.095677",
     "exception": false,
     "start_time": "2020-10-31T07:43:54.477621",
     "status": "completed"
    },
    "tags": []
   },
   "outputs": [
    {
     "name": "stdout",
     "output_type": "stream",
     "text": [
      "1.0\n"
     ]
    }
   ],
   "source": [
    "result=model_C1.predict(test1)\n",
    "print(result[0][0])"
   ]
  },
  {
   "cell_type": "code",
   "execution_count": 46,
   "metadata": {
    "execution": {
     "iopub.execute_input": "2020-10-31T07:43:56.054341Z",
     "iopub.status.busy": "2020-10-31T07:43:56.053523Z",
     "iopub.status.idle": "2020-10-31T07:43:56.056720Z",
     "shell.execute_reply": "2020-10-31T07:43:56.055942Z"
    },
    "papermill": {
     "duration": 0.486658,
     "end_time": "2020-10-31T07:43:56.056886",
     "exception": false,
     "start_time": "2020-10-31T07:43:55.570228",
     "status": "completed"
    },
    "tags": []
   },
   "outputs": [],
   "source": [
    "test2='flower gene pollination '*147\n",
    "test2=createSample([test2])"
   ]
  },
  {
   "cell_type": "code",
   "execution_count": 47,
   "metadata": {
    "execution": {
     "iopub.execute_input": "2020-10-31T07:43:57.020910Z",
     "iopub.status.busy": "2020-10-31T07:43:57.020107Z",
     "iopub.status.idle": "2020-10-31T07:43:57.074672Z",
     "shell.execute_reply": "2020-10-31T07:43:57.073830Z"
    },
    "papermill": {
     "duration": 0.541157,
     "end_time": "2020-10-31T07:43:57.074858",
     "exception": false,
     "start_time": "2020-10-31T07:43:56.533701",
     "status": "completed"
    },
    "tags": []
   },
   "outputs": [
    {
     "name": "stdout",
     "output_type": "stream",
     "text": [
      "0.0\n"
     ]
    }
   ],
   "source": [
    "print(model_C1.predict(test2)[0][0])"
   ]
  },
  {
   "cell_type": "code",
   "execution_count": 48,
   "metadata": {
    "execution": {
     "iopub.execute_input": "2020-10-31T07:43:58.035261Z",
     "iopub.status.busy": "2020-10-31T07:43:58.034464Z",
     "iopub.status.idle": "2020-10-31T07:44:02.793725Z",
     "shell.execute_reply": "2020-10-31T07:44:02.794405Z"
    },
    "papermill": {
     "duration": 5.244388,
     "end_time": "2020-10-31T07:44:02.794570",
     "exception": false,
     "start_time": "2020-10-31T07:43:57.550182",
     "status": "completed"
    },
    "scrolled": false,
    "tags": []
   },
   "outputs": [
    {
     "name": "stdout",
     "output_type": "stream",
     "text": [
      "Candidate Model 1 statistics:\n",
      "159/159 [==============================] - 3s 21ms/step - loss: 0.0473 - accuracy: 0.9972\n",
      "Training accuracy= 0.9972\n",
      "68/68 [==============================] - 1s 19ms/step - loss: 0.2045 - accuracy: 0.9936\n",
      "Testing accuracy= 0.9936\n"
     ]
    }
   ],
   "source": [
    "print(\"Candidate Model 1 statistics:\")\n",
    "loss,accuracy=model_C1.evaluate(X_train_tensor,y_train)\n",
    "print(\"Training accuracy= {:.4f}\".format(accuracy))\n",
    "loss,accuracy=model_C1.evaluate(X_test_tensor,y_test)\n",
    "print(\"Testing accuracy= {:.4f}\".format(accuracy))"
   ]
  },
  {
   "cell_type": "code",
   "execution_count": 49,
   "metadata": {
    "execution": {
     "iopub.execute_input": "2020-10-31T07:44:03.906140Z",
     "iopub.status.busy": "2020-10-31T07:44:03.905028Z",
     "iopub.status.idle": "2020-10-31T07:44:09.026303Z",
     "shell.execute_reply": "2020-10-31T07:44:09.025008Z"
    },
    "papermill": {
     "duration": 5.689017,
     "end_time": "2020-10-31T07:44:09.026510",
     "exception": false,
     "start_time": "2020-10-31T07:44:03.337493",
     "status": "completed"
    },
    "tags": []
   },
   "outputs": [
    {
     "name": "stdout",
     "output_type": "stream",
     "text": [
      "Candidate Model 2 statistics:\n",
      "159/159 [==============================] - 4s 23ms/step - loss: 0.0154 - accuracy: 0.9986\n",
      "Training accuracy= 0.9986\n",
      "68/68 [==============================] - 1s 19ms/step - loss: 0.0532 - accuracy: 0.9862\n",
      "Testing accuracy= 0.9862\n"
     ]
    }
   ],
   "source": [
    "print(\"Candidate Model 2 statistics:\")\n",
    "loss,accuracy=model_C2.evaluate(X_train_tensor,y_train)\n",
    "print(\"Training accuracy= {:.4f}\".format(accuracy))\n",
    "loss,accuracy=model_C2.evaluate(X_test_tensor,y_test)\n",
    "print(\"Testing accuracy= {:.4f}\".format(accuracy))"
   ]
  },
  {
   "cell_type": "code",
   "execution_count": 50,
   "metadata": {
    "execution": {
     "iopub.execute_input": "2020-10-31T07:44:10.164117Z",
     "iopub.status.busy": "2020-10-31T07:44:10.162781Z",
     "iopub.status.idle": "2020-10-31T07:44:12.777851Z",
     "shell.execute_reply": "2020-10-31T07:44:12.777174Z"
    },
    "papermill": {
     "duration": 3.171826,
     "end_time": "2020-10-31T07:44:12.777991",
     "exception": false,
     "start_time": "2020-10-31T07:44:09.606165",
     "status": "completed"
    },
    "tags": []
   },
   "outputs": [],
   "source": [
    "model_C1.save(\"./model_C1\")\n",
    "model_C2.save(\"./model_C2\")"
   ]
  }
 ],
 "metadata": {
  "kernelspec": {
   "display_name": "Python 3",
   "language": "python",
   "name": "python3"
  },
  "language_info": {
   "codemirror_mode": {
    "name": "ipython",
    "version": 3
   },
   "file_extension": ".py",
   "mimetype": "text/x-python",
   "name": "python",
   "nbconvert_exporter": "python",
   "pygments_lexer": "ipython3",
   "version": "3.7.6"
  },
  "papermill": {
   "duration": 292.629611,
   "end_time": "2020-10-31T07:44:13.443784",
   "environment_variables": {},
   "exception": null,
   "input_path": "__notebook__.ipynb",
   "output_path": "__notebook__.ipynb",
   "parameters": {},
   "start_time": "2020-10-31T07:39:20.814173",
   "version": "2.1.0"
  }
 },
 "nbformat": 4,
 "nbformat_minor": 4
}
